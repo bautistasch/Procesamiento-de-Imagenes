{
 "cells": [
  {
   "cell_type": "markdown",
   "metadata": {},
   "source": [
    "# Trabajo Práctico N5. Restauracion de Imagenes"
   ]
  },
  {
   "cell_type": "code",
   "execution_count": 57,
   "metadata": {},
   "outputs": [],
   "source": [
    "#Funciones auxiliares\n",
    "\n",
    "def myplotimg (img,vmin=0,vmax=255,title=None):\n",
    "  plt.imshow(img,cmap='gray', vmin=vmin, vmax=vmax)\n",
    "  if title != None:\n",
    "    plt.title(title)\n",
    "  plt.axis(\"off\")\n",
    "  plt.show()\n",
    "  return\n",
    "\n",
    "def show_side_by_side(imgs, subtitles = None, title = None, vmin=0, vmax=255, **kwargs):\n",
    "    fig, axes = plt.subplots(1, len(imgs), **kwargs)\n",
    "    if len(imgs) == 1:\n",
    "        axes = [axes]\n",
    "    if title is not None:\n",
    "        fig.suptitle(title, y=0.8)\n",
    "    if subtitles is None:\n",
    "        subtitles = [None for _ in imgs]\n",
    "    for ax, img, subtitle in zip(axes, imgs, subtitles):\n",
    "        if subtitle is not None:\n",
    "            ax.set_title(subtitle)\n",
    "        ax.imshow(img, cmap='gray', vmin=vmin, vmax=vmax)\n",
    "        ax.axis('off')\n",
    "        \n",
    "    plt.tight_layout()\n",
    "    plt.show()"
   ]
  }
 ],
 "metadata": {
  "kernelspec": {
   "display_name": "venv",
   "language": "python",
   "name": "python3"
  },
  "language_info": {
   "codemirror_mode": {
    "name": "ipython",
    "version": 3
   },
   "file_extension": ".py",
   "mimetype": "text/x-python",
   "name": "python",
   "nbconvert_exporter": "python",
   "pygments_lexer": "ipython3",
   "version": "3.11.5"
  },
  "orig_nbformat": 4
 },
 "nbformat": 4,
 "nbformat_minor": 2
}
