{
 "cells": [
  {
   "cell_type": "markdown",
   "metadata": {},
   "source": [
    "# PARA QUE SEA INTERACTIVO HAY QUE CORRERLO (Runtime -> Run all) EN GOOGLE COLAB"
   ]
  },
  {
   "cell_type": "code",
   "execution_count": 1,
   "metadata": {},
   "outputs": [],
   "source": [
    "import matplotlib.pyplot as plt\n",
    "import numpy as np\n",
    "from numpy.lib.stride_tricks import sliding_window_view"
   ]
  },
  {
   "cell_type": "code",
   "execution_count": 2,
   "metadata": {},
   "outputs": [],
   "source": [
    "#Funciones auxiliares\n",
    "\n",
    "def myplotimg (img,vmin=0,vmax=1,title=None):\n",
    "  plt.imshow(img,cmap='gray', vmin=vmin, vmax=vmax)\n",
    "  if title != None:\n",
    "    plt.title(title)\n",
    "  plt.axis(\"off\")\n",
    "  plt.show()\n",
    "  return\n",
    "\n",
    "def show_side_by_side(imgs, subtitles = None, title = None, vmin=0, vmax=1, **kwargs):\n",
    "    fig, axes = plt.subplots(1, len(imgs), **kwargs)\n",
    "    if len(imgs) == 1:\n",
    "        axes = [axes]\n",
    "    if title is not None:\n",
    "        fig.suptitle(title, y=0.8)\n",
    "    if subtitles is None:\n",
    "        subtitles = [None for _ in imgs]\n",
    "    for ax, img, subtitle in zip(axes, imgs, subtitles):\n",
    "        if subtitle is not None:\n",
    "            ax.set_title(subtitle)\n",
    "        ax.imshow(img, vmin=vmin, vmax=vmax, cmap='gray')\n",
    "        ax.axis('off')\n",
    "        \n",
    "    plt.tight_layout()\n",
    "    plt.show()"
   ]
  },
  {
   "cell_type": "code",
   "execution_count": 3,
   "metadata": {},
   "outputs": [],
   "source": [
    "def apply_operation(img, element, method):\n",
    "    padded = np.pad(img, element.shape[0]//2)\n",
    "    windows = sliding_window_view(padded, window_shape=element.shape)\n",
    "    if method == 'erode':\n",
    "        return np.all(windows | ~element, axis=(-1, -2))\n",
    "    else:\n",
    "        return np.any(windows & element, axis=(-1, -2))\n",
    "\n",
    "def erode(img, element):\n",
    "    return apply_operation(img, element, \"erode\")\n",
    "\n",
    "def dilate(img, element):\n",
    "    return apply_operation(img, element, \"dilate\")"
   ]
  },
  {
   "cell_type": "code",
   "execution_count": 39,
   "metadata": {},
   "outputs": [
    {
     "data": {
      "application/vnd.jupyter.widget-view+json": {
       "model_id": "40f5786192534c37aa4f20a13b0a24e9",
       "version_major": 2,
       "version_minor": 0
      },
      "text/plain": [
       "interactive(children=(IntSlider(value=10, description='r', max=20, min=1), Output()), _dom_classes=('widget-in…"
      ]
     },
     "metadata": {},
     "output_type": "display_data"
    }
   ],
   "source": [
    "from ipywidgets import interact\n",
    "\n",
    "line = lambda y, x: x * 3 > y\n",
    "triangle = lambda y, x: line(y, x) & line(y, 50 - x - 1)\n",
    "\n",
    "img=np.fromfunction(triangle, (100, 50))\n",
    "\n",
    "@interact(r=(1, 20, 1))\n",
    "def func(r):\n",
    "    d=r*2\n",
    "    element = np.fromfunction(lambda y, x: (x-r)*(x-r)+(y-r)*(y-r) < r*r, (d, d))\n",
    "    show_side_by_side([img, dilate(img, element)])"
   ]
  }
 ],
 "metadata": {
  "kernelspec": {
   "display_name": "venv",
   "language": "python",
   "name": "python3"
  },
  "language_info": {
   "codemirror_mode": {
    "name": "ipython",
    "version": 3
   },
   "file_extension": ".py",
   "mimetype": "text/x-python",
   "name": "python",
   "nbconvert_exporter": "python",
   "pygments_lexer": "ipython3",
   "version": "3.11.5"
  }
 },
 "nbformat": 4,
 "nbformat_minor": 2
}
