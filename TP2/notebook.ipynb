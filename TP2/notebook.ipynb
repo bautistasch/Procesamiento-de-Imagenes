{
 "cells": [
  {
   "cell_type": "markdown",
   "metadata": {},
   "source": [
    "# TP2"
   ]
  },
  {
   "cell_type": "code",
   "execution_count": null,
   "metadata": {},
   "outputs": [],
   "source": [
    "import scipy \n",
    "import numpy as np\n",
    "import matplotlib.pyplot as plt\n",
    "from PIL import Image\n",
    "import cv2"
   ]
  },
  {
   "cell_type": "markdown",
   "metadata": {},
   "source": [
    "### Funcion upsampling"
   ]
  },
  {
   "cell_type": "code",
   "execution_count": null,
   "metadata": {},
   "outputs": [],
   "source": [
    "def upsampling(I,m):\n",
    "# Upsample the square image I by a factor of m\n",
    "  N, M=np.shape(I)\n",
    "  type(m*N)\n",
    "  Iup = np.zeros(m*N,m*N)\n",
    "  # Expand input image\n",
    "  for i in range(N):\n",
    "    for j in range(N):\n",
    "        Iup[m*(i-1)+1,m*(j-1)+1]=I[i,j]\n",
    "# Ideal filter\n",
    "  (N,M)=Iup.shape();\n",
    "  w=1/m;\n",
    "  F=scipy.fft.fftshift(scipy.fft.fft2(Iup))\n",
    "  for i in range(N):\n",
    "      for j in range(N):\n",
    "          r2=(i-round(N/2))^2+(j-round(N/2))^2\n",
    "          if (r2>round((N/2*w)^2)): \n",
    "            F[i,j]=0\n",
    "  Iup=(m*m)*abs(scipy.fft.ifft2(scipy.fft.fftshift(F)))\n",
    "  return Iup"
   ]
  },
  {
   "cell_type": "markdown",
   "metadata": {},
   "source": [
    "### Funcion DownSampling"
   ]
  },
  {
   "cell_type": "code",
   "execution_count": null,
   "metadata": {},
   "outputs": [],
   "source": [
    "def downsampling(I,m,filter):\n",
    "# Downsample the square image I by a factor of m\n",
    "  print(np.shape(I))\n",
    "  N, M=np.shape(I)\n",
    "                    # Apply ideal filter\n",
    "  w=1/m;\n",
    "  F=scipy.fft.fftshift(scipy.fft.fft2(I));\n",
    "  if filter=='FILTER_ON':\n",
    "    for i in range(N):\n",
    "        for j in range(N):\n",
    "            r2=(i-round(N/2))^2+(j-round(N/2))^2;\n",
    "\n",
    "            if (r2>round((N/2*w)^2)):        #ojo w=1/m\n",
    "              F[i,j]=0 \n",
    "            \n",
    "\n",
    "\n",
    "  Idown=np.real(scipy.fft.ifft2(scipy.fft.fftshift(F)));\n",
    "# Now downsample\n",
    "\n",
    "  Idown = cv2.resize(Idown, dsize=(int(N/m), int(N/m)), interpolation=cv2.INTER_NEAREST)\n",
    "  return Idown"
   ]
  },
  {
   "cell_type": "markdown",
   "metadata": {},
   "source": [
    "## Ejemplo viasampling"
   ]
  },
  {
   "cell_type": "code",
   "execution_count": null,
   "metadata": {},
   "outputs": [],
   "source": [
    "#Via sampling theory\n",
    "m=2;            ##Factor de downsampling\n",
    "f1 = cv2.imread('barbara.jpg',cv2.IMREAD_GRAYSCALE)\n",
    "f1 = f1[0:500, 0:500]\n",
    "f2=downsampling(f1,m,'FILTER_OFF');\n",
    "#f2=downsampling(f1,m,'FILTER_ON');\n",
    "f3=upsampling(f2,m);\n",
    "plt.figure(1)\n",
    "plt.imshow(f1,cmap='gray', vmin=0, vmax=255)\n",
    "plt.title('0°)Original')\n",
    "plt.axis('off')\n",
    "plt.show(block=False) # Show the plot in non-blocking mode (i.e continue)\n",
    "plt.figure(2)\n",
    "plt.imshow(f1,cmap='gray', vmin=0, vmax=255)\n",
    "plt.title('1°)Downsample')\n",
    "plt.axis('off')\n",
    "plt.show(block=False) # Show the plot in non-blocking mode (i.e continue)\n",
    "plt.figure(3)\n",
    "plt.imshow(f1,cmap='gray', vmin=0, vmax=255)\n",
    "plt.title('2°)Upsample')\n",
    "plt.axis('off')\n",
    "plt.show(block=False) # Show the plot in non-blocking mode (i.e continue)"
   ]
  }
 ],
 "metadata": {
  "language_info": {
   "name": "python"
  },
  "orig_nbformat": 4
 },
 "nbformat": 4,
 "nbformat_minor": 2
}
